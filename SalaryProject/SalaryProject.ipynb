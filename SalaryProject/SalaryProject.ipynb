{
 "cells": [
  {
   "cell_type": "code",
   "execution_count": 56,
   "metadata": {},
   "outputs": [],
   "source": [
    "import warnings\n",
    "warnings.filterwarnings('ignore')\n",
    "import pandas as pd\n",
    "import numpy as np\n",
    "import matplotlib.pyplot as plt\n",
    "import seaborn as sns"
   ]
  },
  {
   "cell_type": "code",
   "execution_count": 57,
   "metadata": {},
   "outputs": [],
   "source": [
    "data = pd.read_csv('Salaries.csv')"
   ]
  },
  {
   "cell_type": "code",
   "execution_count": 58,
   "metadata": {},
   "outputs": [
    {
     "data": {
      "text/html": [
       "<div>\n",
       "<style scoped>\n",
       "    .dataframe tbody tr th:only-of-type {\n",
       "        vertical-align: middle;\n",
       "    }\n",
       "\n",
       "    .dataframe tbody tr th {\n",
       "        vertical-align: top;\n",
       "    }\n",
       "\n",
       "    .dataframe thead th {\n",
       "        text-align: right;\n",
       "    }\n",
       "</style>\n",
       "<table border=\"1\" class=\"dataframe\">\n",
       "  <thead>\n",
       "    <tr style=\"text-align: right;\">\n",
       "      <th></th>\n",
       "      <th>rank</th>\n",
       "      <th>discipline</th>\n",
       "      <th>yrs.since.phd</th>\n",
       "      <th>yrs.service</th>\n",
       "      <th>sex</th>\n",
       "      <th>salary</th>\n",
       "    </tr>\n",
       "  </thead>\n",
       "  <tbody>\n",
       "    <tr>\n",
       "      <th>0</th>\n",
       "      <td>Prof</td>\n",
       "      <td>B</td>\n",
       "      <td>19</td>\n",
       "      <td>18</td>\n",
       "      <td>Male</td>\n",
       "      <td>139750</td>\n",
       "    </tr>\n",
       "    <tr>\n",
       "      <th>1</th>\n",
       "      <td>Prof</td>\n",
       "      <td>B</td>\n",
       "      <td>20</td>\n",
       "      <td>16</td>\n",
       "      <td>Male</td>\n",
       "      <td>173200</td>\n",
       "    </tr>\n",
       "    <tr>\n",
       "      <th>2</th>\n",
       "      <td>AsstProf</td>\n",
       "      <td>B</td>\n",
       "      <td>4</td>\n",
       "      <td>3</td>\n",
       "      <td>Male</td>\n",
       "      <td>79750</td>\n",
       "    </tr>\n",
       "    <tr>\n",
       "      <th>3</th>\n",
       "      <td>Prof</td>\n",
       "      <td>B</td>\n",
       "      <td>45</td>\n",
       "      <td>39</td>\n",
       "      <td>Male</td>\n",
       "      <td>115000</td>\n",
       "    </tr>\n",
       "    <tr>\n",
       "      <th>4</th>\n",
       "      <td>Prof</td>\n",
       "      <td>B</td>\n",
       "      <td>40</td>\n",
       "      <td>41</td>\n",
       "      <td>Male</td>\n",
       "      <td>141500</td>\n",
       "    </tr>\n",
       "  </tbody>\n",
       "</table>\n",
       "</div>"
      ],
      "text/plain": [
       "       rank discipline  yrs.since.phd  yrs.service   sex  salary\n",
       "0      Prof          B             19           18  Male  139750\n",
       "1      Prof          B             20           16  Male  173200\n",
       "2  AsstProf          B              4            3  Male   79750\n",
       "3      Prof          B             45           39  Male  115000\n",
       "4      Prof          B             40           41  Male  141500"
      ]
     },
     "execution_count": 58,
     "metadata": {},
     "output_type": "execute_result"
    }
   ],
   "source": [
    "data.head()"
   ]
  },
  {
   "cell_type": "code",
   "execution_count": 59,
   "metadata": {},
   "outputs": [
    {
     "data": {
      "text/plain": [
       "(397, 6)"
      ]
     },
     "execution_count": 59,
     "metadata": {},
     "output_type": "execute_result"
    }
   ],
   "source": [
    "data.shape"
   ]
  },
  {
   "cell_type": "markdown",
   "metadata": {},
   "source": [
    "<h2>Overview of data</h2>\n",
    "<ul>\n",
    "    <li>Data has 397 rows and 6 columns</li>\n",
    "    <li>Rank - Categorical Variable - Depicts the rank of the employee</li>\n",
    "    <li>Discipline - Categorical Variable - Depicts the dsicipline of the employee</li>\n",
    "    <li>yrs.since.phd - Discrete Variable  - Depicts the years since phd of the employee</li>\n",
    "    <li>yrs.service - Discrete Variable - Depicts the years of service of the employee</li>\n",
    "    <li>sex - Categorical Variable - Depicts the sex of the employee</li>\n",
    "    <li>salary - Outcome - Depicts the salary of the employee</li>\n",
    "</ul>\n",
    "<strong>Since we are predicting a continous variable this is a classification problem</strong>"
   ]
  },
  {
   "cell_type": "code",
   "execution_count": 60,
   "metadata": {},
   "outputs": [
    {
     "data": {
      "text/plain": [
       "rank             0\n",
       "discipline       0\n",
       "yrs.since.phd    0\n",
       "yrs.service      0\n",
       "sex              0\n",
       "salary           0\n",
       "dtype: int64"
      ]
     },
     "execution_count": 60,
     "metadata": {},
     "output_type": "execute_result"
    }
   ],
   "source": [
    "data.isnull().sum()"
   ]
  },
  {
   "cell_type": "markdown",
   "metadata": {},
   "source": [
    "<strong>Data has no null values</strong>"
   ]
  },
  {
   "cell_type": "markdown",
   "metadata": {},
   "source": [
    "<h2>Exploratory Data Analysis</h2>"
   ]
  },
  {
   "cell_type": "markdown",
   "metadata": {},
   "source": [
    "<h3>Striplots for categorical variables</h3>"
   ]
  },
  {
   "cell_type": "code",
   "execution_count": 61,
   "metadata": {},
   "outputs": [],
   "source": [
    "Categorical_vars = ['rank', 'discipline', 'sex']\n",
    "outcome_var = 'salary'"
   ]
  },
  {
   "cell_type": "code",
   "execution_count": 62,
   "metadata": {},
   "outputs": [
    {
     "data": {
      "image/png": "[encoded data removed]",
      "text/plain": [
       "<Figure size 1080x360 with 3 Axes>"
      ]
     },
     "metadata": {
      "needs_background": "light"
     },
     "output_type": "display_data"
    }
   ],
   "source": [
    "plt.figure(figsize=(15,5))\n",
    "for i in range(len(Categorical_vars)):\n",
    "    plt.subplot(1,3, i+1)\n",
    "    sns.stripplot(x=data[Categorical_vars[i]], y=data[outcome_var])\n",
    "    \n",
    "plt.show()"
   ]
  },
  {
   "cell_type": "markdown",
   "metadata": {},
   "source": [
    "<strong>From above stripplots we can concluse that -: \n",
    "        <ul>\n",
    "            <li>Professors have highest Salaries, while AsstProf have lowest</li>\n",
    "            <li>Salary in discipline A is a bioot more varied than in discipline B</li>\n",
    "            <li>Male workers have higher salary than female workers, alos there are a lot more male workers than female workers</li>\n",
    "        </ul>\n",
    "</strong>"
   ]
  },
  {
   "cell_type": "markdown",
   "metadata": {},
   "source": [
    "<h3>ScatterPlots for Discrete Varaibles</h3>"
   ]
  },
  {
   "cell_type": "code",
   "execution_count": 63,
   "metadata": {},
   "outputs": [],
   "source": [
    "discrete_vars = ['yrs.since.phd','yrs.service']"
   ]
  },
  {
   "cell_type": "code",
   "execution_count": 64,
   "metadata": {},
   "outputs": [
    {
     "data": {
      "image/png": "[encoded data removed]",
      "text/plain": [
       "<Figure size 720x360 with 2 Axes>"
      ]
     },
     "metadata": {
      "needs_background": "light"
     },
     "output_type": "display_data"
    }
   ],
   "source": [
    "plt.figure(figsize=(10,5))\n",
    "for i in range(len(discrete_vars)):\n",
    "    plt.subplot(1,2,i+1)\n",
    "    sns.scatterplot(x =data[discrete_vars[i]], y=data[outcome_var])\n",
    "    \n",
    "plt.show()"
   ]
  },
  {
   "cell_type": "markdown",
   "metadata": {},
   "source": [
    "<strong>From Above scatterplots we can conclude that-:\n",
    "        <ul>\n",
    "            <li>Years Since Phd has an upwards trend with Salary</li>\n",
    "            <li>Years of Service has an upwards trend with Salary</li>\n",
    "            <li>There Might be some outliers in the years since service column</li>\n",
    "        </ul>\n",
    "</strong>"
   ]
  },
  {
   "cell_type": "markdown",
   "metadata": {},
   "source": [
    "<h3>Pairplot</h3>"
   ]
  },
  {
   "cell_type": "code",
   "execution_count": 65,
   "metadata": {},
   "outputs": [
    {
     "data": {
      "image/png": "[encoded data removed]",
      "text/plain": [
       "<Figure size 540x540 with 12 Axes>"
      ]
     },
     "metadata": {
      "needs_background": "light"
     },
     "output_type": "display_data"
    }
   ],
   "source": [
    "sns.pairplot(data)\n",
    "plt.savefig('pairplot.png')\n",
    "plt.show()"
   ]
  },
  {
   "cell_type": "markdown",
   "metadata": {},
   "source": [
    "<strong>From Pairplot we can see that Years Since Phd and Years Service has high multicollinearity with each other</strong>"
   ]
  },
  {
   "cell_type": "code",
   "execution_count": 66,
   "metadata": {},
   "outputs": [
    {
     "data": {
      "text/html": [
       "<div>\n",
       "<style scoped>\n",
       "    .dataframe tbody tr th:only-of-type {\n",
       "        vertical-align: middle;\n",
       "    }\n",
       "\n",
       "    .dataframe tbody tr th {\n",
       "        vertical-align: top;\n",
       "    }\n",
       "\n",
       "    .dataframe thead th {\n",
       "        text-align: right;\n",
       "    }\n",
       "</style>\n",
       "<table border=\"1\" class=\"dataframe\">\n",
       "  <thead>\n",
       "    <tr style=\"text-align: right;\">\n",
       "      <th></th>\n",
       "      <th>yrs.since.phd</th>\n",
       "      <th>yrs.service</th>\n",
       "      <th>salary</th>\n",
       "    </tr>\n",
       "  </thead>\n",
       "  <tbody>\n",
       "    <tr>\n",
       "      <th>yrs.since.phd</th>\n",
       "      <td>1.000000</td>\n",
       "      <td>0.909649</td>\n",
       "      <td>0.419231</td>\n",
       "    </tr>\n",
       "    <tr>\n",
       "      <th>yrs.service</th>\n",
       "      <td>0.909649</td>\n",
       "      <td>1.000000</td>\n",
       "      <td>0.334745</td>\n",
       "    </tr>\n",
       "    <tr>\n",
       "      <th>salary</th>\n",
       "      <td>0.419231</td>\n",
       "      <td>0.334745</td>\n",
       "      <td>1.000000</td>\n",
       "    </tr>\n",
       "  </tbody>\n",
       "</table>\n",
       "</div>"
      ],
      "text/plain": [
       "               yrs.since.phd  yrs.service    salary\n",
       "yrs.since.phd       1.000000     0.909649  0.419231\n",
       "yrs.service         0.909649     1.000000  0.334745\n",
       "salary              0.419231     0.334745  1.000000"
      ]
     },
     "execution_count": 66,
     "metadata": {},
     "output_type": "execute_result"
    }
   ],
   "source": [
    "data.corr()"
   ]
  },
  {
   "cell_type": "markdown",
   "metadata": {},
   "source": [
    "<strong>Outcomes from Correlation Matrix\n",
    "    <ul>\n",
    "        <li>Years Since phd has a correlation of 41% with Salary</li>\n",
    "        <li>Years of Service has a correlation of 33% with Salary</li>\n",
    "        <li>Years Since phd has a correlation of 90% with Years of Service</li>\n",
    "    </ul>\n",
    "</strong>"
   ]
  },
  {
   "cell_type": "code",
   "execution_count": 67,
   "metadata": {},
   "outputs": [
    {
     "data": {
      "text/plain": [
       "<matplotlib.axes._subplots.AxesSubplot at 0x1fc42853f60>"
      ]
     },
     "execution_count": 67,
     "metadata": {},
     "output_type": "execute_result"
    },
    {
     "data": {
      "image/png": "[encoded data removed]",
      "text/plain": [
       "<Figure size 432x288 with 2 Axes>"
      ]
     },
     "metadata": {
      "needs_background": "light"
     },
     "output_type": "display_data"
    }
   ],
   "source": [
    "sns.heatmap(data.corr(), annot=True)"
   ]
  },
  {
   "cell_type": "code",
   "execution_count": 68,
   "metadata": {},
   "outputs": [
    {
     "data": {
      "text/html": [
       "<div>\n",
       "<style scoped>\n",
       "    .dataframe tbody tr th:only-of-type {\n",
       "        vertical-align: middle;\n",
       "    }\n",
       "\n",
       "    .dataframe tbody tr th {\n",
       "        vertical-align: top;\n",
       "    }\n",
       "\n",
       "    .dataframe thead th {\n",
       "        text-align: right;\n",
       "    }\n",
       "</style>\n",
       "<table border=\"1\" class=\"dataframe\">\n",
       "  <thead>\n",
       "    <tr style=\"text-align: right;\">\n",
       "      <th></th>\n",
       "      <th>yrs.since.phd</th>\n",
       "      <th>yrs.service</th>\n",
       "      <th>salary</th>\n",
       "    </tr>\n",
       "  </thead>\n",
       "  <tbody>\n",
       "    <tr>\n",
       "      <th>count</th>\n",
       "      <td>397.000000</td>\n",
       "      <td>397.000000</td>\n",
       "      <td>397.000000</td>\n",
       "    </tr>\n",
       "    <tr>\n",
       "      <th>mean</th>\n",
       "      <td>22.314861</td>\n",
       "      <td>17.614610</td>\n",
       "      <td>113706.458438</td>\n",
       "    </tr>\n",
       "    <tr>\n",
       "      <th>std</th>\n",
       "      <td>12.887003</td>\n",
       "      <td>13.006024</td>\n",
       "      <td>30289.038695</td>\n",
       "    </tr>\n",
       "    <tr>\n",
       "      <th>min</th>\n",
       "      <td>1.000000</td>\n",
       "      <td>0.000000</td>\n",
       "      <td>57800.000000</td>\n",
       "    </tr>\n",
       "    <tr>\n",
       "      <th>25%</th>\n",
       "      <td>12.000000</td>\n",
       "      <td>7.000000</td>\n",
       "      <td>91000.000000</td>\n",
       "    </tr>\n",
       "    <tr>\n",
       "      <th>50%</th>\n",
       "      <td>21.000000</td>\n",
       "      <td>16.000000</td>\n",
       "      <td>107300.000000</td>\n",
       "    </tr>\n",
       "    <tr>\n",
       "      <th>75%</th>\n",
       "      <td>32.000000</td>\n",
       "      <td>27.000000</td>\n",
       "      <td>134185.000000</td>\n",
       "    </tr>\n",
       "    <tr>\n",
       "      <th>max</th>\n",
       "      <td>56.000000</td>\n",
       "      <td>60.000000</td>\n",
       "      <td>231545.000000</td>\n",
       "    </tr>\n",
       "  </tbody>\n",
       "</table>\n",
       "</div>"
      ],
      "text/plain": [
       "       yrs.since.phd  yrs.service         salary\n",
       "count     397.000000   397.000000     397.000000\n",
       "mean       22.314861    17.614610  113706.458438\n",
       "std        12.887003    13.006024   30289.038695\n",
       "min         1.000000     0.000000   57800.000000\n",
       "25%        12.000000     7.000000   91000.000000\n",
       "50%        21.000000    16.000000  107300.000000\n",
       "75%        32.000000    27.000000  134185.000000\n",
       "max        56.000000    60.000000  231545.000000"
      ]
     },
     "execution_count": 68,
     "metadata": {},
     "output_type": "execute_result"
    }
   ],
   "source": [
    "data.describe()"
   ]
  },
  {
   "cell_type": "markdown",
   "metadata": {},
   "source": [
    "<strong>Outcome of descriptive Statistice\n",
    "    <ul>\n",
    "        <li>Years Since Phd\n",
    "            <ul>\n",
    "                <li>Mean - 22.31</li>\n",
    "                <li>STD - 12.88</li>\n",
    "                <li>Min - 1.00</li>\n",
    "                <li>Max - 56.00</li>\n",
    "            </ul>\n",
    "        </li>\n",
    "        <li>Years of Service\n",
    "            <ul>\n",
    "                <li>Mean - 17.61</li>\n",
    "                <li>STD - 13.00</li>\n",
    "                <li>Min - 0.00</li>\n",
    "                <li>Max - 60.00</li>\n",
    "            </ul>\n",
    "        </li>\n",
    "        <li>Salary\n",
    "            <ul>\n",
    "                <li>Mean - 113706</li>\n",
    "                <li>STD - 30289</li>\n",
    "                <li>Min - 57800</li>\n",
    "                <li>Max - 231545</li>\n",
    "            </ul>\n",
    "        </li>\n",
    "    </ul>\n",
    "</strong>"
   ]
  },
  {
   "cell_type": "code",
   "execution_count": 69,
   "metadata": {},
   "outputs": [
    {
     "data": {
      "image/png": "[encoded data removed]",
      "text/plain": [
       "<Figure size 360x288 with 2 Axes>"
      ]
     },
     "metadata": {
      "needs_background": "light"
     },
     "output_type": "display_data"
    }
   ],
   "source": [
    "plt.figure(figsize=(5,4))\n",
    "for i, col in enumerate(discrete_vars):\n",
    "    plt.subplot(2,1, i+1)\n",
    "    sns.boxplot(data[col], color='green',orient='v')\n",
    "    \n",
    "plt.show()"
   ]
  },
  {
   "cell_type": "markdown",
   "metadata": {},
   "source": [
    "<strong>From the boxplot we can see that there are not many outliers in our dataset</strong>"
   ]
  },
  {
   "cell_type": "code",
   "execution_count": 70,
   "metadata": {},
   "outputs": [
    {
     "data": {
      "text/plain": [
       "yrs.since.phd    0.300880\n",
       "yrs.service      0.650569\n",
       "salary           0.714568\n",
       "dtype: float64"
      ]
     },
     "execution_count": 70,
     "metadata": {},
     "output_type": "execute_result"
    }
   ],
   "source": [
    "data.skew()"
   ]
  },
  {
   "cell_type": "code",
   "execution_count": null,
   "metadata": {},
   "outputs": [],
   "source": []
  },
  {
   "cell_type": "code",
   "execution_count": null,
   "metadata": {},
   "outputs": [],
   "source": []
  },
  {
   "cell_type": "code",
   "execution_count": null,
   "metadata": {},
   "outputs": [],
   "source": []
  },
  {
   "cell_type": "code",
   "execution_count": 71,
   "metadata": {},
   "outputs": [
    {
     "data": {
      "image/png": "[encoded data removed]",
      "text/plain": [
       "<Figure size 720x360 with 2 Axes>"
      ]
     },
     "metadata": {
      "needs_background": "light"
     },
     "output_type": "display_data"
    }
   ],
   "source": [
    "plt.figure(figsize=(10,5))\n",
    "for i in range(len(discrete_vars)):\n",
    "    plt.subplot(1,2,i+1)\n",
    "    sns.distplot(x =data[discrete_vars[i]])\n",
    "    plt.xlabel(col)\n",
    "    \n",
    "plt.show()"
   ]
  },
  {
   "cell_type": "markdown",
   "metadata": {},
   "source": [
    "<strong>Data is slightly skewed in yrs.service</strong>"
   ]
  },
  {
   "cell_type": "code",
   "execution_count": 72,
   "metadata": {},
   "outputs": [
    {
     "data": {
      "text/html": [
       "<div>\n",
       "<style scoped>\n",
       "    .dataframe tbody tr th:only-of-type {\n",
       "        vertical-align: middle;\n",
       "    }\n",
       "\n",
       "    .dataframe tbody tr th {\n",
       "        vertical-align: top;\n",
       "    }\n",
       "\n",
       "    .dataframe thead th {\n",
       "        text-align: right;\n",
       "    }\n",
       "</style>\n",
       "<table border=\"1\" class=\"dataframe\">\n",
       "  <thead>\n",
       "    <tr style=\"text-align: right;\">\n",
       "      <th></th>\n",
       "      <th>rank</th>\n",
       "      <th>discipline</th>\n",
       "      <th>yrs.since.phd</th>\n",
       "      <th>yrs.service</th>\n",
       "      <th>sex</th>\n",
       "    </tr>\n",
       "  </thead>\n",
       "  <tbody>\n",
       "    <tr>\n",
       "      <th>0</th>\n",
       "      <td>Prof</td>\n",
       "      <td>B</td>\n",
       "      <td>19</td>\n",
       "      <td>18</td>\n",
       "      <td>Male</td>\n",
       "    </tr>\n",
       "    <tr>\n",
       "      <th>1</th>\n",
       "      <td>Prof</td>\n",
       "      <td>B</td>\n",
       "      <td>20</td>\n",
       "      <td>16</td>\n",
       "      <td>Male</td>\n",
       "    </tr>\n",
       "    <tr>\n",
       "      <th>2</th>\n",
       "      <td>AsstProf</td>\n",
       "      <td>B</td>\n",
       "      <td>4</td>\n",
       "      <td>3</td>\n",
       "      <td>Male</td>\n",
       "    </tr>\n",
       "    <tr>\n",
       "      <th>3</th>\n",
       "      <td>Prof</td>\n",
       "      <td>B</td>\n",
       "      <td>45</td>\n",
       "      <td>39</td>\n",
       "      <td>Male</td>\n",
       "    </tr>\n",
       "    <tr>\n",
       "      <th>4</th>\n",
       "      <td>Prof</td>\n",
       "      <td>B</td>\n",
       "      <td>40</td>\n",
       "      <td>41</td>\n",
       "      <td>Male</td>\n",
       "    </tr>\n",
       "    <tr>\n",
       "      <th>...</th>\n",
       "      <td>...</td>\n",
       "      <td>...</td>\n",
       "      <td>...</td>\n",
       "      <td>...</td>\n",
       "      <td>...</td>\n",
       "    </tr>\n",
       "    <tr>\n",
       "      <th>392</th>\n",
       "      <td>Prof</td>\n",
       "      <td>A</td>\n",
       "      <td>33</td>\n",
       "      <td>30</td>\n",
       "      <td>Male</td>\n",
       "    </tr>\n",
       "    <tr>\n",
       "      <th>393</th>\n",
       "      <td>Prof</td>\n",
       "      <td>A</td>\n",
       "      <td>31</td>\n",
       "      <td>19</td>\n",
       "      <td>Male</td>\n",
       "    </tr>\n",
       "    <tr>\n",
       "      <th>394</th>\n",
       "      <td>Prof</td>\n",
       "      <td>A</td>\n",
       "      <td>42</td>\n",
       "      <td>25</td>\n",
       "      <td>Male</td>\n",
       "    </tr>\n",
       "    <tr>\n",
       "      <th>395</th>\n",
       "      <td>Prof</td>\n",
       "      <td>A</td>\n",
       "      <td>25</td>\n",
       "      <td>15</td>\n",
       "      <td>Male</td>\n",
       "    </tr>\n",
       "    <tr>\n",
       "      <th>396</th>\n",
       "      <td>AsstProf</td>\n",
       "      <td>A</td>\n",
       "      <td>8</td>\n",
       "      <td>4</td>\n",
       "      <td>Male</td>\n",
       "    </tr>\n",
       "  </tbody>\n",
       "</table>\n",
       "<p>397 rows × 5 columns</p>\n",
       "</div>"
      ],
      "text/plain": [
       "         rank discipline  yrs.since.phd  yrs.service   sex\n",
       "0        Prof          B             19           18  Male\n",
       "1        Prof          B             20           16  Male\n",
       "2    AsstProf          B              4            3  Male\n",
       "3        Prof          B             45           39  Male\n",
       "4        Prof          B             40           41  Male\n",
       "..        ...        ...            ...          ...   ...\n",
       "392      Prof          A             33           30  Male\n",
       "393      Prof          A             31           19  Male\n",
       "394      Prof          A             42           25  Male\n",
       "395      Prof          A             25           15  Male\n",
       "396  AsstProf          A              8            4  Male\n",
       "\n",
       "[397 rows x 5 columns]"
      ]
     },
     "execution_count": 72,
     "metadata": {},
     "output_type": "execute_result"
    }
   ],
   "source": [
    "to_apply_z_df = data.drop(columns=['salary'])\n",
    "to_apply_z_df"
   ]
  },
  {
   "cell_type": "code",
   "execution_count": 73,
   "metadata": {},
   "outputs": [
    {
     "data": {
      "text/plain": [
       "(397, 2)"
      ]
     },
     "execution_count": 73,
     "metadata": {},
     "output_type": "execute_result"
    }
   ],
   "source": [
    "from scipy.stats import zscore\n",
    "z = np.abs(zscore(to_apply_z_df.iloc[:, 2:4]))\n",
    "z.shape"
   ]
  },
  {
   "cell_type": "code",
   "execution_count": 74,
   "metadata": {},
   "outputs": [
    {
     "name": "stdout",
     "output_type": "stream",
     "text": [
      "Old Shape (397, 6)\n",
      "New Shape (395, 6)\n",
      "Total Dropped Rows 2\n"
     ]
    },
    {
     "data": {
      "text/plain": [
       "rank             0\n",
       "discipline       0\n",
       "yrs.since.phd    0\n",
       "yrs.service      0\n",
       "sex              0\n",
       "salary           0\n",
       "dtype: int64"
      ]
     },
     "execution_count": 74,
     "metadata": {},
     "output_type": "execute_result"
    }
   ],
   "source": [
    "data_new = data[(z<3).all(axis=1)]\n",
    "print(\"Old Shape\", data.shape)\n",
    "print(\"New Shape\", data_new.shape)\n",
    "print(\"Total Dropped Rows\", data.shape[0] - data_new.shape[0])\n",
    "data_new.isnull().sum()"
   ]
  },
  {
   "cell_type": "markdown",
   "metadata": {},
   "source": [
    "Removing skewness using box-cox"
   ]
  },
  {
   "cell_type": "code",
   "execution_count": 75,
   "metadata": {},
   "outputs": [
    {
     "name": "stdout",
     "output_type": "stream",
     "text": [
      "(395, 5)\n",
      "yrs.since.phd    22.162025\n",
      "yrs.service      17.407595\n",
      "dtype: float64\n",
      "rank             0\n",
      "discipline       0\n",
      "yrs.since.phd    0\n",
      "yrs.service      0\n",
      "sex              0\n",
      "dtype: int64\n"
     ]
    }
   ],
   "source": [
    "from sklearn.preprocessing import power_transform\n",
    "x = data_new.drop(columns=['salary'])\n",
    "y = data_new['salary']\n",
    "print(x.shape)\n",
    "print(x.mean())\n",
    "print(x.isnull().sum())"
   ]
  },
  {
   "cell_type": "code",
   "execution_count": 76,
   "metadata": {},
   "outputs": [],
   "source": [
    "x['yrs.service'] = power_transform(np.array(x.iloc[:,3]).reshape(-1,1), method='yeo-johnson')\n",
    "x['yrs.since.phd'] = power_transform(np.array(x.iloc[:,2]).reshape(-1,1), method='yeo-johnson')"
   ]
  },
  {
   "cell_type": "code",
   "execution_count": 77,
   "metadata": {},
   "outputs": [
    {
     "data": {
      "text/plain": [
       "rank             0\n",
       "discipline       0\n",
       "yrs.since.phd    0\n",
       "yrs.service      0\n",
       "sex              0\n",
       "dtype: int64"
      ]
     },
     "execution_count": 77,
     "metadata": {},
     "output_type": "execute_result"
    }
   ],
   "source": [
    "from sklearn.preprocessing import StandardScaler\n",
    "sc = StandardScaler()\n",
    "x['yrs.service'] = sc.fit_transform(np.array(x.iloc[:,3]).reshape(-1,1))\n",
    "x['yrs.since.phd'] = sc.transform(np.array(x.iloc[:,2]).reshape(-1,1))\n",
    "x.isnull().sum()"
   ]
  },
  {
   "cell_type": "code",
   "execution_count": 78,
   "metadata": {},
   "outputs": [
    {
     "data": {
      "text/html": [
       "<div>\n",
       "<style scoped>\n",
       "    .dataframe tbody tr th:only-of-type {\n",
       "        vertical-align: middle;\n",
       "    }\n",
       "\n",
       "    .dataframe tbody tr th {\n",
       "        vertical-align: top;\n",
       "    }\n",
       "\n",
       "    .dataframe thead th {\n",
       "        text-align: right;\n",
       "    }\n",
       "</style>\n",
       "<table border=\"1\" class=\"dataframe\">\n",
       "  <thead>\n",
       "    <tr style=\"text-align: right;\">\n",
       "      <th></th>\n",
       "      <th>rank</th>\n",
       "      <th>discipline</th>\n",
       "      <th>yrs.since.phd</th>\n",
       "      <th>yrs.service</th>\n",
       "      <th>sex</th>\n",
       "    </tr>\n",
       "  </thead>\n",
       "  <tbody>\n",
       "    <tr>\n",
       "      <th>0</th>\n",
       "      <td>Prof</td>\n",
       "      <td>B</td>\n",
       "      <td>-0.121228</td>\n",
       "      <td>0.259854</td>\n",
       "      <td>Male</td>\n",
       "    </tr>\n",
       "    <tr>\n",
       "      <th>1</th>\n",
       "      <td>Prof</td>\n",
       "      <td>B</td>\n",
       "      <td>-0.042467</td>\n",
       "      <td>0.112315</td>\n",
       "      <td>Male</td>\n",
       "    </tr>\n",
       "    <tr>\n",
       "      <th>2</th>\n",
       "      <td>AsstProf</td>\n",
       "      <td>B</td>\n",
       "      <td>-1.625934</td>\n",
       "      <td>-1.287705</td>\n",
       "      <td>Male</td>\n",
       "    </tr>\n",
       "    <tr>\n",
       "      <th>3</th>\n",
       "      <td>Prof</td>\n",
       "      <td>B</td>\n",
       "      <td>1.591760</td>\n",
       "      <td>1.449089</td>\n",
       "      <td>Male</td>\n",
       "    </tr>\n",
       "    <tr>\n",
       "      <th>4</th>\n",
       "      <td>Prof</td>\n",
       "      <td>B</td>\n",
       "      <td>1.301965</td>\n",
       "      <td>1.540959</td>\n",
       "      <td>Male</td>\n",
       "    </tr>\n",
       "    <tr>\n",
       "      <th>...</th>\n",
       "      <td>...</td>\n",
       "      <td>...</td>\n",
       "      <td>...</td>\n",
       "      <td>...</td>\n",
       "      <td>...</td>\n",
       "    </tr>\n",
       "    <tr>\n",
       "      <th>392</th>\n",
       "      <td>Prof</td>\n",
       "      <td>A</td>\n",
       "      <td>0.870701</td>\n",
       "      <td>0.998921</td>\n",
       "      <td>Male</td>\n",
       "    </tr>\n",
       "    <tr>\n",
       "      <th>393</th>\n",
       "      <td>Prof</td>\n",
       "      <td>A</td>\n",
       "      <td>0.740983</td>\n",
       "      <td>0.330280</td>\n",
       "      <td>Male</td>\n",
       "    </tr>\n",
       "    <tr>\n",
       "      <th>394</th>\n",
       "      <td>Prof</td>\n",
       "      <td>A</td>\n",
       "      <td>1.419524</td>\n",
       "      <td>0.715524</td>\n",
       "      <td>Male</td>\n",
       "    </tr>\n",
       "    <tr>\n",
       "      <th>395</th>\n",
       "      <td>Prof</td>\n",
       "      <td>A</td>\n",
       "      <td>0.330379</td>\n",
       "      <td>0.034786</td>\n",
       "      <td>Male</td>\n",
       "    </tr>\n",
       "    <tr>\n",
       "      <th>396</th>\n",
       "      <td>AsstProf</td>\n",
       "      <td>A</td>\n",
       "      <td>-1.133632</td>\n",
       "      <td>-1.123767</td>\n",
       "      <td>Male</td>\n",
       "    </tr>\n",
       "  </tbody>\n",
       "</table>\n",
       "<p>395 rows × 5 columns</p>\n",
       "</div>"
      ],
      "text/plain": [
       "         rank discipline  yrs.since.phd  yrs.service   sex\n",
       "0        Prof          B      -0.121228     0.259854  Male\n",
       "1        Prof          B      -0.042467     0.112315  Male\n",
       "2    AsstProf          B      -1.625934    -1.287705  Male\n",
       "3        Prof          B       1.591760     1.449089  Male\n",
       "4        Prof          B       1.301965     1.540959  Male\n",
       "..        ...        ...            ...          ...   ...\n",
       "392      Prof          A       0.870701     0.998921  Male\n",
       "393      Prof          A       0.740983     0.330280  Male\n",
       "394      Prof          A       1.419524     0.715524  Male\n",
       "395      Prof          A       0.330379     0.034786  Male\n",
       "396  AsstProf          A      -1.133632    -1.123767  Male\n",
       "\n",
       "[395 rows x 5 columns]"
      ]
     },
     "execution_count": 78,
     "metadata": {},
     "output_type": "execute_result"
    }
   ],
   "source": [
    "x"
   ]
  },
  {
   "cell_type": "code",
   "execution_count": 79,
   "metadata": {},
   "outputs": [
    {
     "name": "stdout",
     "output_type": "stream",
     "text": [
      "yrs.since.phd    3.957453e-16\n",
      "yrs.service     -3.597685e-17\n",
      "dtype: float64\n"
     ]
    }
   ],
   "source": [
    "print(x.mean())"
   ]
  },
  {
   "cell_type": "code",
   "execution_count": 80,
   "metadata": {},
   "outputs": [
    {
     "data": {
      "text/html": [
       "<div>\n",
       "<style scoped>\n",
       "    .dataframe tbody tr th:only-of-type {\n",
       "        vertical-align: middle;\n",
       "    }\n",
       "\n",
       "    .dataframe tbody tr th {\n",
       "        vertical-align: top;\n",
       "    }\n",
       "\n",
       "    .dataframe thead th {\n",
       "        text-align: right;\n",
       "    }\n",
       "</style>\n",
       "<table border=\"1\" class=\"dataframe\">\n",
       "  <thead>\n",
       "    <tr style=\"text-align: right;\">\n",
       "      <th></th>\n",
       "      <th>yrs.since.phd</th>\n",
       "      <th>yrs.service</th>\n",
       "      <th>rank_AssocProf</th>\n",
       "      <th>rank_AsstProf</th>\n",
       "      <th>rank_Prof</th>\n",
       "      <th>discipline_A</th>\n",
       "      <th>discipline_B</th>\n",
       "      <th>sex_Female</th>\n",
       "      <th>sex_Male</th>\n",
       "    </tr>\n",
       "  </thead>\n",
       "  <tbody>\n",
       "    <tr>\n",
       "      <th>0</th>\n",
       "      <td>-0.121228</td>\n",
       "      <td>0.259854</td>\n",
       "      <td>0</td>\n",
       "      <td>0</td>\n",
       "      <td>1</td>\n",
       "      <td>0</td>\n",
       "      <td>1</td>\n",
       "      <td>0</td>\n",
       "      <td>1</td>\n",
       "    </tr>\n",
       "    <tr>\n",
       "      <th>1</th>\n",
       "      <td>-0.042467</td>\n",
       "      <td>0.112315</td>\n",
       "      <td>0</td>\n",
       "      <td>0</td>\n",
       "      <td>1</td>\n",
       "      <td>0</td>\n",
       "      <td>1</td>\n",
       "      <td>0</td>\n",
       "      <td>1</td>\n",
       "    </tr>\n",
       "    <tr>\n",
       "      <th>2</th>\n",
       "      <td>-1.625934</td>\n",
       "      <td>-1.287705</td>\n",
       "      <td>0</td>\n",
       "      <td>1</td>\n",
       "      <td>0</td>\n",
       "      <td>0</td>\n",
       "      <td>1</td>\n",
       "      <td>0</td>\n",
       "      <td>1</td>\n",
       "    </tr>\n",
       "    <tr>\n",
       "      <th>3</th>\n",
       "      <td>1.591760</td>\n",
       "      <td>1.449089</td>\n",
       "      <td>0</td>\n",
       "      <td>0</td>\n",
       "      <td>1</td>\n",
       "      <td>0</td>\n",
       "      <td>1</td>\n",
       "      <td>0</td>\n",
       "      <td>1</td>\n",
       "    </tr>\n",
       "    <tr>\n",
       "      <th>4</th>\n",
       "      <td>1.301965</td>\n",
       "      <td>1.540959</td>\n",
       "      <td>0</td>\n",
       "      <td>0</td>\n",
       "      <td>1</td>\n",
       "      <td>0</td>\n",
       "      <td>1</td>\n",
       "      <td>0</td>\n",
       "      <td>1</td>\n",
       "    </tr>\n",
       "    <tr>\n",
       "      <th>...</th>\n",
       "      <td>...</td>\n",
       "      <td>...</td>\n",
       "      <td>...</td>\n",
       "      <td>...</td>\n",
       "      <td>...</td>\n",
       "      <td>...</td>\n",
       "      <td>...</td>\n",
       "      <td>...</td>\n",
       "      <td>...</td>\n",
       "    </tr>\n",
       "    <tr>\n",
       "      <th>392</th>\n",
       "      <td>0.870701</td>\n",
       "      <td>0.998921</td>\n",
       "      <td>0</td>\n",
       "      <td>0</td>\n",
       "      <td>1</td>\n",
       "      <td>1</td>\n",
       "      <td>0</td>\n",
       "      <td>0</td>\n",
       "      <td>1</td>\n",
       "    </tr>\n",
       "    <tr>\n",
       "      <th>393</th>\n",
       "      <td>0.740983</td>\n",
       "      <td>0.330280</td>\n",
       "      <td>0</td>\n",
       "      <td>0</td>\n",
       "      <td>1</td>\n",
       "      <td>1</td>\n",
       "      <td>0</td>\n",
       "      <td>0</td>\n",
       "      <td>1</td>\n",
       "    </tr>\n",
       "    <tr>\n",
       "      <th>394</th>\n",
       "      <td>1.419524</td>\n",
       "      <td>0.715524</td>\n",
       "      <td>0</td>\n",
       "      <td>0</td>\n",
       "      <td>1</td>\n",
       "      <td>1</td>\n",
       "      <td>0</td>\n",
       "      <td>0</td>\n",
       "      <td>1</td>\n",
       "    </tr>\n",
       "    <tr>\n",
       "      <th>395</th>\n",
       "      <td>0.330379</td>\n",
       "      <td>0.034786</td>\n",
       "      <td>0</td>\n",
       "      <td>0</td>\n",
       "      <td>1</td>\n",
       "      <td>1</td>\n",
       "      <td>0</td>\n",
       "      <td>0</td>\n",
       "      <td>1</td>\n",
       "    </tr>\n",
       "    <tr>\n",
       "      <th>396</th>\n",
       "      <td>-1.133632</td>\n",
       "      <td>-1.123767</td>\n",
       "      <td>0</td>\n",
       "      <td>1</td>\n",
       "      <td>0</td>\n",
       "      <td>1</td>\n",
       "      <td>0</td>\n",
       "      <td>0</td>\n",
       "      <td>1</td>\n",
       "    </tr>\n",
       "  </tbody>\n",
       "</table>\n",
       "<p>395 rows × 9 columns</p>\n",
       "</div>"
      ],
      "text/plain": [
       "     yrs.since.phd  yrs.service  rank_AssocProf  rank_AsstProf  rank_Prof  \\\n",
       "0        -0.121228     0.259854               0              0          1   \n",
       "1        -0.042467     0.112315               0              0          1   \n",
       "2        -1.625934    -1.287705               0              1          0   \n",
       "3         1.591760     1.449089               0              0          1   \n",
       "4         1.301965     1.540959               0              0          1   \n",
       "..             ...          ...             ...            ...        ...   \n",
       "392       0.870701     0.998921               0              0          1   \n",
       "393       0.740983     0.330280               0              0          1   \n",
       "394       1.419524     0.715524               0              0          1   \n",
       "395       0.330379     0.034786               0              0          1   \n",
       "396      -1.133632    -1.123767               0              1          0   \n",
       "\n",
       "     discipline_A  discipline_B  sex_Female  sex_Male  \n",
       "0               0             1           0         1  \n",
       "1               0             1           0         1  \n",
       "2               0             1           0         1  \n",
       "3               0             1           0         1  \n",
       "4               0             1           0         1  \n",
       "..            ...           ...         ...       ...  \n",
       "392             1             0           0         1  \n",
       "393             1             0           0         1  \n",
       "394             1             0           0         1  \n",
       "395             1             0           0         1  \n",
       "396             1             0           0         1  \n",
       "\n",
       "[395 rows x 9 columns]"
      ]
     },
     "execution_count": 80,
     "metadata": {},
     "output_type": "execute_result"
    }
   ],
   "source": [
    "from sklearn.model_selection import train_test_split\n",
    "from sklearn.linear_model import LinearRegression\n",
    "lr = LinearRegression()\n",
    "from sklearn.metrics import mean_absolute_error, mean_squared_error\n",
    "x = pd.get_dummies(x)\n",
    "x"
   ]
  },
  {
   "cell_type": "code",
   "execution_count": 81,
   "metadata": {},
   "outputs": [
    {
     "name": "stdout",
     "output_type": "stream",
     "text": [
      "At random state 0 :\n",
      "Training Score:  44.3\n",
      "Testing Score : 59.1\n",
      "Mean Absolute Error is : 16756.006866652035\n",
      "Mean Squared Error is : 326703736.1859053\n",
      "At random state 1 :\n",
      "Training Score:  45.2\n",
      "Testing Score : 48.9\n",
      "Mean Absolute Error is : 16376.595063168455\n",
      "Mean Squared Error is : 497719961.25772256\n",
      "At random state 2 :\n",
      "Training Score:  46.6\n",
      "Testing Score : 32.2\n",
      "Mean Absolute Error is : 16415.309855243922\n",
      "Mean Squared Error is : 488544219.13335097\n",
      "At random state 3 :\n",
      "Training Score:  48.0\n",
      "Testing Score : 23.3\n",
      "Mean Absolute Error is : 15635.673049232888\n",
      "Mean Squared Error is : 821611303.827975\n",
      "At random state 4 :\n",
      "Training Score:  45.6\n",
      "Testing Score : 45.7\n",
      "Mean Absolute Error is : 15894.888239826629\n",
      "Mean Squared Error is : 665483840.6913942\n",
      "At random state 5 :\n",
      "Training Score:  45.7\n",
      "Testing Score : 44.5\n",
      "Mean Absolute Error is : 15966.29014084507\n",
      "Mean Squared Error is : 754062918.3\n",
      "At random state 6 :\n",
      "Training Score:  45.6\n",
      "Testing Score : 44.8\n",
      "Mean Absolute Error is : 16425.613076970305\n",
      "Mean Squared Error is : 422202513.67558753\n",
      "At random state 7 :\n",
      "Training Score:  45.5\n",
      "Testing Score : 45.7\n",
      "Mean Absolute Error is : 16908.56331288332\n",
      "Mean Squared Error is : 209924580.60358435\n",
      "At random state 8 :\n",
      "Training Score:  47.2\n",
      "Testing Score : 30.2\n",
      "Mean Absolute Error is : 15986.11478550282\n",
      "Mean Squared Error is : 591633778.3274496\n",
      "At random state 9 :\n",
      "Training Score:  45.3\n",
      "Testing Score : 47.2\n",
      "Mean Absolute Error is : 16255.720658047629\n",
      "Mean Squared Error is : 568856381.529974\n",
      "At random state 10 :\n",
      "Training Score:  45.8\n",
      "Testing Score : 40.8\n",
      "Mean Absolute Error is : 16260.301879635395\n",
      "Mean Squared Error is : 455962651.398722\n",
      "At random state 11 :\n",
      "Training Score:  45.2\n",
      "Testing Score : 45.8\n",
      "Mean Absolute Error is : 16223.019649373718\n",
      "Mean Squared Error is : 502788694.12146175\n",
      "At random state 12 :\n",
      "Training Score:  43.6\n",
      "Testing Score : 61.4\n",
      "Mean Absolute Error is : 16598.53636245106\n",
      "Mean Squared Error is : 388645127.2455856\n",
      "At random state 13 :\n",
      "Training Score:  43.6\n",
      "Testing Score : 64.7\n",
      "Mean Absolute Error is : 16986.397763936286\n",
      "Mean Squared Error is : 209069713.94547072\n",
      "At random state 14 :\n",
      "Training Score:  47.2\n",
      "Testing Score : 23.7\n",
      "Mean Absolute Error is : 16276.840969033938\n",
      "Mean Squared Error is : 534410364.566457\n",
      "At random state 15 :\n",
      "Training Score:  45.4\n",
      "Testing Score : 48.3\n",
      "Mean Absolute Error is : 16516.425721528878\n",
      "Mean Squared Error is : 378433411.94080365\n",
      "At random state 16 :\n",
      "Training Score:  44.6\n",
      "Testing Score : 57.9\n",
      "Mean Absolute Error is : 16830.46837602813\n",
      "Mean Squared Error is : 283942699.87058496\n",
      "At random state 17 :\n",
      "Training Score:  44.8\n",
      "Testing Score : 51.7\n",
      "Mean Absolute Error is : 16195.587399292439\n",
      "Mean Squared Error is : 519837765.0625559\n",
      "At random state 18 :\n",
      "Training Score:  48.8\n",
      "Testing Score : 17.8\n",
      "Mean Absolute Error is : 15872.752727951645\n",
      "Mean Squared Error is : 779628020.4711034\n",
      "At random state 19 :\n",
      "Training Score:  43.1\n",
      "Testing Score : 65.2\n",
      "Mean Absolute Error is : 16692.348248606177\n",
      "Mean Squared Error is : 348242752.91798246\n",
      "At random state 20 :\n",
      "Training Score:  45.8\n",
      "Testing Score : 42.5\n",
      "Mean Absolute Error is : 16549.437021073987\n",
      "Mean Squared Error is : 415943481.86437553\n",
      "At random state 21 :\n",
      "Training Score:  44.9\n",
      "Testing Score : 50.6\n",
      "Mean Absolute Error is : 16519.63153278734\n",
      "Mean Squared Error is : 424035133.47824943\n",
      "At random state 22 :\n",
      "Training Score:  46.5\n",
      "Testing Score : 38.7\n",
      "Mean Absolute Error is : 16186.859398860506\n",
      "Mean Squared Error is : 618975019.4270225\n",
      "At random state 23 :\n",
      "Training Score:  44.8\n",
      "Testing Score : 54.5\n",
      "Mean Absolute Error is : 16598.873403820668\n",
      "Mean Squared Error is : 320717970.22853994\n",
      "At random state 24 :\n",
      "Training Score:  46.3\n",
      "Testing Score : 38.8\n",
      "Mean Absolute Error is : 16026.613630176214\n",
      "Mean Squared Error is : 577550865.2196921\n",
      "At random state 25 :\n",
      "Training Score:  46.0\n",
      "Testing Score : 42.3\n",
      "Mean Absolute Error is : 16202.738776457954\n",
      "Mean Squared Error is : 589081572.2209117\n",
      "At random state 26 :\n",
      "Training Score:  44.1\n",
      "Testing Score : 63.2\n",
      "Mean Absolute Error is : 16966.744238301777\n",
      "Mean Squared Error is : 268776326.4702666\n",
      "At random state 27 :\n",
      "Training Score:  44.8\n",
      "Testing Score : 52.0\n",
      "Mean Absolute Error is : 16732.64377325066\n",
      "Mean Squared Error is : 411115477.41840905\n",
      "At random state 28 :\n",
      "Training Score:  47.1\n",
      "Testing Score : 28.9\n",
      "Mean Absolute Error is : 16066.987928797425\n",
      "Mean Squared Error is : 521823531.27864397\n",
      "At random state 29 :\n",
      "Training Score:  46.6\n",
      "Testing Score : 33.9\n",
      "Mean Absolute Error is : 16130.802054714542\n",
      "Mean Squared Error is : 588137186.8636928\n",
      "At random state 30 :\n",
      "Training Score:  44.5\n",
      "Testing Score : 56.1\n",
      "Mean Absolute Error is : 16618.981256020506\n",
      "Mean Squared Error is : 367342463.4590944\n",
      "At random state 31 :\n",
      "Training Score:  46.4\n",
      "Testing Score : 28.2\n",
      "Mean Absolute Error is : 16508.837114547016\n",
      "Mean Squared Error is : 494561821.17477816\n",
      "At random state 32 :\n",
      "Training Score:  46.8\n",
      "Testing Score : 34.1\n",
      "Mean Absolute Error is : 16214.595983914087\n",
      "Mean Squared Error is : 555564232.3638661\n",
      "At random state 33 :\n",
      "Training Score:  46.1\n",
      "Testing Score : 34.9\n",
      "Mean Absolute Error is : 16709.496145293168\n",
      "Mean Squared Error is : 352013157.0533385\n",
      "At random state 34 :\n",
      "Training Score:  44.8\n",
      "Testing Score : 46.9\n",
      "Mean Absolute Error is : 16671.102168443773\n",
      "Mean Squared Error is : 448075946.95039177\n",
      "At random state 35 :\n",
      "Training Score:  45.9\n",
      "Testing Score : 43.1\n",
      "Mean Absolute Error is : 15926.726207698885\n",
      "Mean Squared Error is : 762193729.9570158\n",
      "At random state 36 :\n",
      "Training Score:  46.9\n",
      "Testing Score : 30.7\n",
      "Mean Absolute Error is : 16236.150647237073\n",
      "Mean Squared Error is : 521748900.8295164\n",
      "At random state 37 :\n",
      "Training Score:  45.5\n",
      "Testing Score : 43.8\n",
      "Mean Absolute Error is : 16078.896891488956\n",
      "Mean Squared Error is : 585827612.4415209\n",
      "At random state 38 :\n",
      "Training Score:  44.9\n",
      "Testing Score : 52.1\n",
      "Mean Absolute Error is : 16503.800478271503\n",
      "Mean Squared Error is : 383600436.3616641\n",
      "At random state 39 :\n",
      "Training Score:  47.0\n",
      "Testing Score : 29.6\n",
      "Mean Absolute Error is : 16274.294142721825\n",
      "Mean Squared Error is : 496493129.24881494\n",
      "At random state 40 :\n",
      "Training Score:  45.8\n",
      "Testing Score : 39.4\n",
      "Mean Absolute Error is : 16198.849756261523\n",
      "Mean Squared Error is : 784407783.3046255\n",
      "At random state 41 :\n",
      "Training Score:  45.7\n",
      "Testing Score : 45.3\n",
      "Mean Absolute Error is : 16455.01825681864\n",
      "Mean Squared Error is : 424911346.66535157\n",
      "At random state 42 :\n",
      "Training Score:  47.9\n",
      "Testing Score : 29.3\n",
      "Mean Absolute Error is : 15793.81270110208\n",
      "Mean Squared Error is : 809985904.88473\n",
      "At random state 43 :\n",
      "Training Score:  45.6\n",
      "Testing Score : 46.0\n",
      "Mean Absolute Error is : 16155.150064014912\n",
      "Mean Squared Error is : 471439408.25355685\n",
      "At random state 44 :\n",
      "Training Score:  45.0\n",
      "Testing Score : 49.8\n",
      "Mean Absolute Error is : 16543.06389989303\n",
      "Mean Squared Error is : 379673807.70827353\n",
      "At random state 45 :\n",
      "Training Score:  46.0\n",
      "Testing Score : 40.9\n",
      "Mean Absolute Error is : 16591.609578024923\n",
      "Mean Squared Error is : 367171328.1576371\n",
      "At random state 46 :\n",
      "Training Score:  45.0\n",
      "Testing Score : 52.4\n",
      "Mean Absolute Error is : 16673.41510569938\n",
      "Mean Squared Error is : 361207301.4030897\n",
      "At random state 47 :\n",
      "Training Score:  47.3\n",
      "Testing Score : 32.2\n",
      "Mean Absolute Error is : 15836.848813485456\n",
      "Mean Squared Error is : 749599643.1660135\n",
      "At random state 48 :\n",
      "Training Score:  45.8\n",
      "Testing Score : 42.7\n",
      "Mean Absolute Error is : 16636.573435016697\n",
      "Mean Squared Error is : 459975105.63042164\n",
      "At random state 49 :\n",
      "Training Score:  45.3\n",
      "Testing Score : 48.3\n",
      "Mean Absolute Error is : 16400.1882091629\n",
      "Mean Squared Error is : 443515597.5072214\n",
      "At random state 50 :\n",
      "Training Score:  44.5\n",
      "Testing Score : 56.3\n",
      "Mean Absolute Error is : 16588.132197256135\n",
      "Mean Squared Error is : 387854642.703967\n",
      "At random state 51 :\n",
      "Training Score:  45.5\n",
      "Testing Score : 44.9\n",
      "Mean Absolute Error is : 16552.527122433174\n",
      "Mean Squared Error is : 354145325.2912923\n",
      "At random state 52 :\n",
      "Training Score:  45.6\n",
      "Testing Score : 41.0\n",
      "Mean Absolute Error is : 16180.232052798438\n",
      "Mean Squared Error is : 598717818.1866512\n",
      "At random state 53 :\n",
      "Training Score:  44.8\n",
      "Testing Score : 48.7\n",
      "Mean Absolute Error is : 16587.94733662611\n",
      "Mean Squared Error is : 367142366.90044415\n",
      "At random state 54 :\n",
      "Training Score:  48.4\n",
      "Testing Score : 15.9\n",
      "Mean Absolute Error is : 15902.643540455318\n",
      "Mean Squared Error is : 695485480.7261832\n",
      "At random state 55 :\n",
      "Training Score:  45.5\n",
      "Testing Score : 44.5\n",
      "Mean Absolute Error is : 16287.347883106571\n",
      "Mean Squared Error is : 478118588.1332611\n",
      "At random state 56 :\n",
      "Training Score:  46.4\n",
      "Testing Score : 39.3\n",
      "Mean Absolute Error is : 16201.559026206343\n",
      "Mean Squared Error is : 583910559.8931192\n",
      "At random state 57 :\n",
      "Training Score:  45.2\n",
      "Testing Score : 49.0\n",
      "Mean Absolute Error is : 16455.99576896729\n",
      "Mean Squared Error is : 509086762.48440343\n",
      "At random state 58 :\n",
      "Training Score:  45.3\n",
      "Testing Score : 43.9\n",
      "Mean Absolute Error is : 16601.68762392349\n",
      "Mean Squared Error is : 377515983.76412946\n",
      "At random state 59 :\n",
      "Training Score:  43.8\n",
      "Testing Score : 59.2\n",
      "Mean Absolute Error is : 16537.740441496546\n",
      "Mean Squared Error is : 423770610.1796721\n",
      "At random state 60 :\n",
      "Training Score:  46.5\n",
      "Testing Score : 33.2\n",
      "Mean Absolute Error is : 16373.48046345048\n",
      "Mean Squared Error is : 493849591.75076354\n",
      "At random state 61 :\n",
      "Training Score:  46.1\n",
      "Testing Score : 40.8\n",
      "Mean Absolute Error is : 16298.110945729468\n",
      "Mean Squared Error is : 492873969.8321101\n",
      "At random state 62 :\n",
      "Training Score:  47.6\n",
      "Testing Score : 23.6\n",
      "Mean Absolute Error is : 15916.13761900176\n",
      "Mean Squared Error is : 625776519.6948315\n",
      "At random state 63 :\n",
      "Training Score:  47.6\n",
      "Testing Score : 31.8\n",
      "Mean Absolute Error is : 15656.508084028685\n",
      "Mean Squared Error is : 845536758.6775649\n",
      "At random state 64 :\n",
      "Training Score:  44.3\n",
      "Testing Score : 59.3\n",
      "Mean Absolute Error is : 16591.891408065356\n",
      "Mean Squared Error is : 314440204.636421\n",
      "At random state 65 :\n",
      "Training Score:  47.5\n",
      "Testing Score : 24.1\n",
      "Mean Absolute Error is : 16082.468910778805\n",
      "Mean Squared Error is : 544399505.2790194\n",
      "At random state 66 :\n",
      "Training Score:  46.1\n",
      "Testing Score : 39.7\n",
      "Mean Absolute Error is : 16529.52915568293\n",
      "Mean Squared Error is : 403068662.3914658\n",
      "At random state 67 :\n",
      "Training Score:  46.6\n",
      "Testing Score : 39.3\n",
      "Mean Absolute Error is : 15849.547628203305\n",
      "Mean Squared Error is : 757402753.0634944\n",
      "At random state 68 :\n",
      "Training Score:  46.8\n",
      "Testing Score : 36.2\n",
      "Mean Absolute Error is : 16062.242320196241\n",
      "Mean Squared Error is : 678079395.4719235\n",
      "At random state 69 :\n",
      "Training Score:  44.7\n",
      "Testing Score : 42.7\n",
      "Mean Absolute Error is : 16720.32499734343\n",
      "Mean Squared Error is : 455163038.59269303\n",
      "At random state 70 :\n",
      "Training Score:  44.3\n",
      "Testing Score : 59.5\n",
      "Mean Absolute Error is : 16607.681259317214\n",
      "Mean Squared Error is : 304698069.78111124\n",
      "At random state 71 :\n",
      "Training Score:  45.4\n",
      "Testing Score : 47.3\n",
      "Mean Absolute Error is : 16257.982659801248\n",
      "Mean Squared Error is : 424824753.06456244\n",
      "At random state 72 :\n",
      "Training Score:  48.0\n",
      "Testing Score : 30.2\n",
      "Mean Absolute Error is : 15371.654258384795\n",
      "Mean Squared Error is : 1135477922.6393323\n",
      "At random state 73 :\n",
      "Training Score:  45.8\n",
      "Testing Score : 42.8\n",
      "Mean Absolute Error is : 16231.274120445078\n",
      "Mean Squared Error is : 516567863.31803113\n",
      "At random state 74 :\n",
      "Training Score:  45.8\n",
      "Testing Score : 43.5\n",
      "Mean Absolute Error is : 16374.303774467955\n",
      "Mean Squared Error is : 568201925.9786537\n",
      "At random state 75 :\n",
      "Training Score:  44.6\n",
      "Testing Score : 54.9\n",
      "Mean Absolute Error is : 16630.90047204338\n",
      "Mean Squared Error is : 389456519.3706392\n",
      "At random state 76 :\n",
      "Training Score:  46.7\n",
      "Testing Score : 27.0\n",
      "Mean Absolute Error is : 16502.968019070446\n",
      "Mean Squared Error is : 360728712.20511353\n",
      "At random state 77 :\n",
      "Training Score:  46.5\n",
      "Testing Score : 36.5\n",
      "Mean Absolute Error is : 16165.542092131356\n",
      "Mean Squared Error is : 655577622.1145405\n",
      "At random state 78 :\n",
      "Training Score:  45.8\n",
      "Testing Score : 43.7\n",
      "Mean Absolute Error is : 16464.329144491847\n",
      "Mean Squared Error is : 432436746.1764944\n",
      "At random state 79 :\n",
      "Training Score:  45.0\n",
      "Testing Score : 52.3\n",
      "Mean Absolute Error is : 16687.73216445387\n",
      "Mean Squared Error is : 395665721.073411\n",
      "At random state 80 :\n",
      "Training Score:  46.1\n",
      "Testing Score : 30.8\n",
      "Mean Absolute Error is : 16761.433399916772\n",
      "Mean Squared Error is : 306507853.9500567\n",
      "At random state 81 :\n",
      "Training Score:  44.6\n",
      "Testing Score : 55.9\n",
      "Mean Absolute Error is : 16624.99306298097\n",
      "Mean Squared Error is : 343172185.17306805\n",
      "At random state 82 :\n",
      "Training Score:  46.2\n",
      "Testing Score : 38.4\n",
      "Mean Absolute Error is : 16343.15524369963\n",
      "Mean Squared Error is : 444012121.2371197\n",
      "At random state 83 :\n",
      "Training Score:  46.1\n",
      "Testing Score : 41.1\n",
      "Mean Absolute Error is : 16357.458915016317\n",
      "Mean Squared Error is : 521170977.2818384\n",
      "At random state 84 :\n",
      "Training Score:  45.5\n",
      "Testing Score : 46.7\n",
      "Mean Absolute Error is : 16468.245685867503\n",
      "Mean Squared Error is : 473045202.20703125\n",
      "At random state 85 :\n",
      "Training Score:  45.3\n",
      "Testing Score : 47.4\n",
      "Mean Absolute Error is : 16366.888456544513\n",
      "Mean Squared Error is : 595798140.8020823\n",
      "At random state 86 :\n",
      "Training Score:  47.8\n",
      "Testing Score : 25.8\n",
      "Mean Absolute Error is : 16020.132449601864\n",
      "Mean Squared Error is : 741574864.9860995\n",
      "At random state 87 :\n",
      "Training Score:  42.9\n",
      "Testing Score : 65.8\n",
      "Mean Absolute Error is : 16476.352575736037\n",
      "Mean Squared Error is : 354403075.2345117\n",
      "At random state 88 :\n",
      "Training Score:  46.1\n",
      "Testing Score : 39.1\n",
      "Mean Absolute Error is : 16374.473682306465\n",
      "Mean Squared Error is : 439532484.58952177\n",
      "At random state 89 :\n",
      "Training Score:  45.2\n",
      "Testing Score : 39.5\n",
      "Mean Absolute Error is : 16811.88720567931\n",
      "Mean Squared Error is : 340713566.3285147\n",
      "At random state 90 :\n",
      "Training Score:  45.4\n",
      "Testing Score : 47.3\n",
      "Mean Absolute Error is : 16604.844332378965\n",
      "Mean Squared Error is : 338072977.9032472\n",
      "At random state 91 :\n",
      "Training Score:  46.2\n",
      "Testing Score : 41.8\n",
      "Mean Absolute Error is : 16223.157789371586\n",
      "Mean Squared Error is : 715870445.7265888\n",
      "At random state 92 :\n",
      "Training Score:  45.8\n",
      "Testing Score : 43.2\n",
      "Mean Absolute Error is : 16420.96091392432\n",
      "Mean Squared Error is : 469473828.7401592\n",
      "At random state 93 :\n",
      "Training Score:  47.9\n",
      "Testing Score : 20.7\n",
      "Mean Absolute Error is : 16169.208598184317\n",
      "Mean Squared Error is : 573484058.1230347\n",
      "At random state 94 :\n",
      "Training Score:  45.4\n",
      "Testing Score : 46.2\n",
      "Mean Absolute Error is : 16483.485298507887\n",
      "Mean Squared Error is : 396097493.87227774\n",
      "At random state 95 :\n",
      "Training Score:  46.6\n",
      "Testing Score : 31.4\n",
      "Mean Absolute Error is : 15723.393374536008\n",
      "Mean Squared Error is : 791973442.5746685\n",
      "At random state 96 :\n",
      "Training Score:  46.5\n",
      "Testing Score : 36.9\n",
      "Mean Absolute Error is : 15921.905682292187\n",
      "Mean Squared Error is : 693332668.3122221\n",
      "At random state 97 :\n",
      "Training Score:  45.7\n",
      "Testing Score : 45.3\n",
      "Mean Absolute Error is : 16269.519335516048\n",
      "Mean Squared Error is : 503585513.51986086\n",
      "At random state 98 :\n",
      "Training Score:  45.0\n",
      "Testing Score : 46.4\n",
      "Mean Absolute Error is : 15981.64930912911\n",
      "Mean Squared Error is : 635786664.3468397\n",
      "At random state 99 :\n",
      "Training Score:  46.1\n",
      "Testing Score : 38.7\n",
      "Mean Absolute Error is : 16569.823856416115\n",
      "Mean Squared Error is : 375315626.06225455\n"
     ]
    }
   ],
   "source": [
    "for i in range(0,100):\n",
    "    x_train, x_test, y_train, y_test = train_test_split(x,y,random_state=i, test_size=0.10)\n",
    "#     print(x_train.shape)\n",
    "    lr.fit(x_train, y_train)\n",
    "    pred_train = lr.predict(x_train)\n",
    "    pred_test = lr.predict(x_test)\n",
    "    if True:\n",
    "        print(\"At random state\", i , \":\")\n",
    "        print(\"Training Score: \", round(lr.score(x_train, y_train)*100, 1))\n",
    "        print(\"Testing Score :\", round(lr.score(x_test, y_test)*100,1))\n",
    "        print(\"Mean Absolute Error is :\" ,mean_absolute_error(y_train, pred_train))\n",
    "        print(\"Mean Squared Error is :\" ,mean_squared_error(y_test, pred_test))"
   ]
  },
  {
   "cell_type": "code",
   "execution_count": 82,
   "metadata": {},
   "outputs": [
    {
     "data": {
      "text/plain": [
       "0.38747509173395334"
      ]
     },
     "execution_count": 82,
     "metadata": {},
     "output_type": "execute_result"
    }
   ],
   "source": [
    "from sklearn.linear_model import RidgeCV, LassoCV, Ridge, Lasso\n",
    "lassocv = LassoCV(alphas=None, normalize=True, max_iter=1000)\n",
    "lassocv.fit(x_train, y_train)\n",
    "alpha = lassocv.alpha_\n",
    "lasso_reg = Lasso(alpha)\n",
    "lasso_reg.fit(x_train, y_train)\n",
    "lasso_reg.score(x_test, y_test)"
   ]
  },
  {
   "cell_type": "code",
   "execution_count": 83,
   "metadata": {},
   "outputs": [
    {
     "data": {
      "text/plain": [
       "0.3873127590041652"
      ]
     },
     "execution_count": 83,
     "metadata": {},
     "output_type": "execute_result"
    }
   ],
   "source": [
    "ridgecv= RidgeCV(alphas=np.arange(0.0001, 0.1, 0.01), normalize=True)\n",
    "ridgecv.fit(x_train, y_train)\n",
    "alpha = ridgecv.alpha_\n",
    "ridge = Ridge(0.0001)\n",
    "ridge.fit(x_train, y_train)\n",
    "ridge.score(x_test, y_test)"
   ]
  },
  {
   "cell_type": "code",
   "execution_count": null,
   "metadata": {},
   "outputs": [],
   "source": []
  },
  {
   "cell_type": "code",
   "execution_count": 86,
   "metadata": {},
   "outputs": [
    {
     "name": "stdout",
     "output_type": "stream",
     "text": [
      "Mean Absolute Error is : 16569.823856416115\n",
      "Mean Squared Error is : 375315626.06225455\n",
      "Mean Absolute Error is : 16569.823856416115\n",
      "Mean Squared Error is : 375315626.06225455\n",
      "Mean Absolute Error is : 16569.823856416115\n",
      "Mean Squared Error is : 375315626.06225455\n",
      "Mean Absolute Error is : 16569.823856416115\n",
      "Mean Squared Error is : 375315626.06225455\n",
      "Mean Absolute Error is : 16569.823856416115\n",
      "Mean Squared Error is : 375315626.06225455\n",
      "Mean Absolute Error is : 16569.823856416115\n",
      "Mean Squared Error is : 375315626.06225455\n",
      "Mean Absolute Error is : 16569.823856416115\n",
      "Mean Squared Error is : 375315626.06225455\n",
      "Mean Absolute Error is : 16569.823856416115\n",
      "Mean Squared Error is : 375315626.06225455\n",
      "Mean Absolute Error is : 16569.823856416115\n",
      "Mean Squared Error is : 375315626.06225455\n"
     ]
    }
   ],
   "source": [
    "from sklearn.neighbors import KNeighborsRegressor\n",
    "\n",
    "for i in range(1,10):\n",
    "    knn =  KNeighborsRegressor(n_neighbors=i)\n",
    "    knn.fit(x_train,y_train)\n",
    "    pred_train = lr.predict(x_train)\n",
    "    pred_test = lr.predict(x_test)\n",
    "    if True:\n",
    "        print(\"Mean Absolute Error is :\" ,mean_absolute_error(y_train, pred_train))\n",
    "        print(\"Mean Squared Error is :\" ,mean_squared_error(y_test, pred_test))\n",
    "    "
   ]
  },
  {
   "cell_type": "markdown",
   "metadata": {},
   "source": [
    "Our best performing model is linear regression with random state of 70"
   ]
  },
  {
   "cell_type": "code",
   "execution_count": 87,
   "metadata": {},
   "outputs": [
    {
     "name": "stdout",
     "output_type": "stream",
     "text": [
      "At random state 70 :\n",
      "Training Score:  44.3\n",
      "Testing Score : 59.5\n",
      "Mean Absolute Error is : 16607.681259317214\n",
      "Mean Squared Error is : 304698069.78111124\n"
     ]
    }
   ],
   "source": [
    "x_train, x_test, y_train, y_test = train_test_split(x,y,random_state=70, test_size=0.10)\n",
    "lr.fit(x_train, y_train)\n",
    "pred_train = lr.predict(x_train)\n",
    "pred_test = lr.predict(x_test)\n",
    "print(\"At random state\", 70 , \":\")\n",
    "print(\"Training Score: \", round(lr.score(x_train, y_train)*100, 1))\n",
    "print(\"Testing Score :\", round(lr.score(x_test, y_test)*100,1))\n",
    "print(\"Mean Absolute Error is :\" ,mean_absolute_error(y_train, pred_train))\n",
    "print(\"Mean Squared Error is :\" ,mean_squared_error(y_test, pred_test))"
   ]
  },
  {
   "cell_type": "markdown",
   "metadata": {},
   "source": [
    "we have a mean absolute error of 16607 which is less than the standard deviation of the salary. This means our model is doing good."
   ]
  },
  {
   "cell_type": "code",
   "execution_count": 88,
   "metadata": {},
   "outputs": [
    {
     "data": {
      "text/plain": [
       "array([  5157.79852661,  -4158.70138987,  -6219.14932186, -19214.53487439,\n",
       "        25433.68419625,  -6322.01747107,   6322.01747107,  -2785.62087936,\n",
       "         2785.62087936])"
      ]
     },
     "execution_count": 88,
     "metadata": {},
     "output_type": "execute_result"
    }
   ],
   "source": [
    "lr.coef_"
   ]
  },
  {
   "cell_type": "code",
   "execution_count": 89,
   "metadata": {},
   "outputs": [
    {
     "data": {
      "text/plain": [
       "97837.40931716442"
      ]
     },
     "execution_count": 89,
     "metadata": {},
     "output_type": "execute_result"
    }
   ],
   "source": [
    "lr.intercept_"
   ]
  },
  {
   "cell_type": "code",
   "execution_count": null,
   "metadata": {},
   "outputs": [],
   "source": []
  }
 ],
 "metadata": {
  "kernelspec": {
   "display_name": "Python 3",
   "language": "python",
   "name": "python3"
  },
  "language_info": {
   "codemirror_mode": {
    "name": "ipython",
    "version": 3
   },
   "file_extension": ".py",
   "mimetype": "text/x-python",
   "name": "python",
   "nbconvert_exporter": "python",
   "pygments_lexer": "ipython3",
   "version": "3.6.6"
  }
 },
 "nbformat": 4,
 "nbformat_minor": 2
}
